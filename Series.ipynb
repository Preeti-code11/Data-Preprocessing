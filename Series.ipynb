{
 "cells": [
  {
   "cell_type": "markdown",
   "id": "9e394bba",
   "metadata": {},
   "source": [
    "# Series"
   ]
  },
  {
   "cell_type": "code",
   "execution_count": 3,
   "id": "01e4ec95",
   "metadata": {},
   "outputs": [
    {
     "name": "stdout",
     "output_type": "stream",
     "text": [
      "0    3\n",
      "1    4\n",
      "2    5\n",
      "3    6\n",
      "4    7\n",
      "dtype: int64\n",
      "<class 'pandas.core.series.Series'>\n",
      "5\n"
     ]
    }
   ],
   "source": [
    "import pandas as pd\n",
    "x=[3,4,5,6,7]\n",
    "var=pd.Series(x)\n",
    "print(var)\n",
    "print(type(var))\n",
    "print(var[2])"
   ]
  },
  {
   "cell_type": "code",
   "execution_count": 4,
   "id": "e45d1eef",
   "metadata": {},
   "outputs": [
    {
     "data": {
      "text/plain": [
       "name    [python, c, c++, java]\n",
       "por           [12, 13, 14, 15]\n",
       "rank              [1, 4, 3, 2]\n",
       "dtype: object"
      ]
     },
     "execution_count": 4,
     "metadata": {},
     "output_type": "execute_result"
    }
   ],
   "source": [
    "dic = {\"name\":['python','c','c++','java'],\"por\":[12,13,14,15],\"rank\":[1,4,3,2]}\n",
    "var1=pd.Series(dic)\n",
    "var1"
   ]
  },
  {
   "cell_type": "code",
   "execution_count": 5,
   "id": "d7b028f3",
   "metadata": {},
   "outputs": [
    {
     "name": "stdout",
     "output_type": "stream",
     "text": [
      "1    24.0\n",
      "2    24.0\n",
      "3    24.0\n",
      "4    24.0\n",
      "5     NaN\n",
      "6     NaN\n",
      "7     NaN\n",
      "dtype: float64\n"
     ]
    }
   ],
   "source": [
    "s1 = pd.Series(12,index=[1,2,3,4,5,6,7])\n",
    "s2 = pd.Series(12,index=[1,2,3,4])\n",
    "print(s1+s2)"
   ]
  },
  {
   "cell_type": "code",
   "execution_count": 6,
   "id": "341e84d0",
   "metadata": {},
   "outputs": [
    {
     "data": {
      "text/plain": [
       "0    12\n",
       "dtype: int64"
      ]
     },
     "execution_count": 6,
     "metadata": {},
     "output_type": "execute_result"
    }
   ],
   "source": [
    "s = pd.Series(12)\n",
    "s"
   ]
  },
  {
   "cell_type": "code",
   "execution_count": null,
   "id": "f84aa0fa",
   "metadata": {},
   "outputs": [],
   "source": []
  }
 ],
 "metadata": {
  "kernelspec": {
   "display_name": "Python 3 (ipykernel)",
   "language": "python",
   "name": "python3"
  },
  "language_info": {
   "codemirror_mode": {
    "name": "ipython",
    "version": 3
   },
   "file_extension": ".py",
   "mimetype": "text/x-python",
   "name": "python",
   "nbconvert_exporter": "python",
   "pygments_lexer": "ipython3",
   "version": "3.11.5"
  }
 },
 "nbformat": 4,
 "nbformat_minor": 5
}
