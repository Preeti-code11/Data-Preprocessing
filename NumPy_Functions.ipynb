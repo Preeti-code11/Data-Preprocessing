{
 "cells": [
  {
   "cell_type": "markdown",
   "id": "36ed2732",
   "metadata": {},
   "source": [
    "# NumPy Functions"
   ]
  },
  {
   "cell_type": "code",
   "execution_count": 1,
   "id": "e094108d",
   "metadata": {},
   "outputs": [],
   "source": [
    "import numpy as np"
   ]
  },
  {
   "cell_type": "markdown",
   "id": "a1dd7220",
   "metadata": {},
   "source": [
    "# arange()"
   ]
  },
  {
   "cell_type": "code",
   "execution_count": 2,
   "id": "27caf006",
   "metadata": {},
   "outputs": [
    {
     "name": "stdout",
     "output_type": "stream",
     "text": [
      "[ 1  2  3  4  5  6  7  8  9 10]\n"
     ]
    }
   ],
   "source": [
    "#np.arange(start, end, steps)\n",
    "ar_1d = np.arange(1,11)\n",
    "print(ar_1d)"
   ]
  },
  {
   "cell_type": "code",
   "execution_count": 3,
   "id": "b29ebe2e",
   "metadata": {},
   "outputs": [
    {
     "name": "stdout",
     "output_type": "stream",
     "text": [
      "[ 2  4  6  8 10]\n"
     ]
    }
   ],
   "source": [
    "even_ar = np.arange(2,11,2)\n",
    "print(even_ar)"
   ]
  },
  {
   "cell_type": "markdown",
   "id": "0992423d",
   "metadata": {},
   "source": [
    "# linspace()"
   ]
  },
  {
   "cell_type": "code",
   "execution_count": 4,
   "id": "9393786d",
   "metadata": {},
   "outputs": [
    {
     "data": {
      "text/plain": [
       "array([1.        , 2.33333333, 3.66666667, 5.        ])"
      ]
     },
     "execution_count": 4,
     "metadata": {},
     "output_type": "execute_result"
    }
   ],
   "source": [
    "np.linspace(1,5,4)"
   ]
  },
  {
   "cell_type": "markdown",
   "id": "72295688",
   "metadata": {},
   "source": [
    "# reshape"
   ]
  },
  {
   "cell_type": "code",
   "execution_count": 5,
   "id": "456fd838",
   "metadata": {},
   "outputs": [
    {
     "name": "stdout",
     "output_type": "stream",
     "text": [
      "[[ 1  2  3  4  5]\n",
      " [ 6  7  8  9 10]]\n"
     ]
    }
   ],
   "source": [
    "ar_2d = ar_1d.reshape(2,5)\n",
    "print(ar_2d)"
   ]
  },
  {
   "cell_type": "code",
   "execution_count": 6,
   "id": "753b1a87",
   "metadata": {},
   "outputs": [
    {
     "name": "stdout",
     "output_type": "stream",
     "text": [
      "[[[ 1  2  3  4  5]\n",
      "  [ 6  7  8  9 10]]]\n"
     ]
    }
   ],
   "source": [
    "ar_3d = ar_1d.reshape(1,2,5)\n",
    "print(ar_3d)"
   ]
  },
  {
   "cell_type": "code",
   "execution_count": 7,
   "id": "65f6eaa6",
   "metadata": {},
   "outputs": [
    {
     "name": "stdout",
     "output_type": "stream",
     "text": [
      "[[ 1  2  3  4  5  6]\n",
      " [ 7  8  9 10 11 12]]\n"
     ]
    }
   ],
   "source": [
    "ar = np.arange(1,13).reshape(2,6)\n",
    "print(ar)"
   ]
  },
  {
   "cell_type": "markdown",
   "id": "f9056a3a",
   "metadata": {},
   "source": [
    "# ravel "
   ]
  },
  {
   "cell_type": "code",
   "execution_count": 8,
   "id": "f001b699",
   "metadata": {},
   "outputs": [
    {
     "data": {
      "text/plain": [
       "array([ 1,  2,  3,  4,  5,  6,  7,  8,  9, 10, 11, 12])"
      ]
     },
     "execution_count": 8,
     "metadata": {},
     "output_type": "execute_result"
    }
   ],
   "source": [
    "ar.ravel()"
   ]
  },
  {
   "cell_type": "markdown",
   "id": "94cd621f",
   "metadata": {},
   "source": [
    "# flatten()"
   ]
  },
  {
   "cell_type": "code",
   "execution_count": 9,
   "id": "3707c8c5",
   "metadata": {},
   "outputs": [
    {
     "data": {
      "text/plain": [
       "array([ 1,  2,  3,  4,  5,  6,  7,  8,  9, 10, 11, 12])"
      ]
     },
     "execution_count": 9,
     "metadata": {},
     "output_type": "execute_result"
    }
   ],
   "source": [
    "ar.flatten()"
   ]
  },
  {
   "cell_type": "markdown",
   "id": "0756c7d3",
   "metadata": {},
   "source": [
    "# transpose() "
   ]
  },
  {
   "cell_type": "code",
   "execution_count": 10,
   "id": "1b14e886",
   "metadata": {},
   "outputs": [
    {
     "data": {
      "text/plain": [
       "array([[ 1,  7],\n",
       "       [ 2,  8],\n",
       "       [ 3,  9],\n",
       "       [ 4, 10],\n",
       "       [ 5, 11],\n",
       "       [ 6, 12]])"
      ]
     },
     "execution_count": 10,
     "metadata": {},
     "output_type": "execute_result"
    }
   ],
   "source": [
    "ar.transpose()"
   ]
  },
  {
   "cell_type": "code",
   "execution_count": 11,
   "id": "c3fd3428",
   "metadata": {},
   "outputs": [
    {
     "data": {
      "text/plain": [
       "array([[ 1,  7],\n",
       "       [ 2,  8],\n",
       "       [ 3,  9],\n",
       "       [ 4, 10],\n",
       "       [ 5, 11],\n",
       "       [ 6, 12]])"
      ]
     },
     "execution_count": 11,
     "metadata": {},
     "output_type": "execute_result"
    }
   ],
   "source": [
    "ar.T"
   ]
  },
  {
   "cell_type": "code",
   "execution_count": null,
   "id": "a8e6d3cb",
   "metadata": {},
   "outputs": [],
   "source": []
  }
 ],
 "metadata": {
  "kernelspec": {
   "display_name": "Python 3 (ipykernel)",
   "language": "python",
   "name": "python3"
  },
  "language_info": {
   "codemirror_mode": {
    "name": "ipython",
    "version": 3
   },
   "file_extension": ".py",
   "mimetype": "text/x-python",
   "name": "python",
   "nbconvert_exporter": "python",
   "pygments_lexer": "ipython3",
   "version": "3.11.5"
  }
 },
 "nbformat": 4,
 "nbformat_minor": 5
}
